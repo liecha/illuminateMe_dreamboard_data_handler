{
 "cells": [
  {
   "cell_type": "code",
   "execution_count": 22,
   "id": "537c8150-f3b6-4bcd-b3fe-4588ec365cae",
   "metadata": {},
   "outputs": [],
   "source": [
    "from csv_ical import Convert\n",
    "import pandas as pd"
   ]
  },
  {
   "cell_type": "code",
   "execution_count": 23,
   "id": "ab2f1e28-f39c-438b-8d42-447dd31fdfe3",
   "metadata": {},
   "outputs": [],
   "source": [
    "file_path_in = '../data_history_ics/'\n",
    "ics_files = [\n",
    "    'walk.ics',\n",
    "    'training.ics',\n",
    "    'sleep.ics',\n",
    "    'remember.ics',\n",
    "    'notes.ics',\n",
    "    'food.ics',\n",
    "    'decerno.ics',\n",
    "    'lovali.ics'\n",
    "]"
   ]
  },
  {
   "cell_type": "code",
   "execution_count": 24,
   "id": "80cde53d-ce3d-421e-b73f-681c0075207c",
   "metadata": {},
   "outputs": [],
   "source": [
    "file_path_out = '../data_history_csv/'\n",
    "csv_files = [\n",
    "    'walk.csv',\n",
    "    'training.csv',\n",
    "    'sleep.csv',\n",
    "    'remember.csv',\n",
    "    'notes.csv',\n",
    "    'food.csv',\n",
    "    'decerno.csv',\n",
    "    'lovali.csv' \n",
    "]"
   ]
  },
  {
   "cell_type": "code",
   "execution_count": 25,
   "id": "6a3081e5-1d25-4dd4-8b0a-5738f678fb10",
   "metadata": {},
   "outputs": [],
   "source": [
    "convert = Convert()"
   ]
  },
  {
   "cell_type": "code",
   "execution_count": 26,
   "id": "fbddf97e-23cd-44a8-8c8b-453665d05a6e",
   "metadata": {},
   "outputs": [],
   "source": [
    "for i in range(0, len(ics_files)):\n",
    "    convert.CSV_FILE_LOCATION = file_path_out + csv_files[i]\n",
    "    convert.SAVE_LOCATION = file_path_in + ics_files[i]\n",
    "    convert.read_ical(convert.SAVE_LOCATION)\n",
    "    convert.make_csv()\n",
    "    convert.save_csv(convert.CSV_FILE_LOCATION)"
   ]
  },
  {
   "cell_type": "code",
   "execution_count": null,
   "id": "b09296dd-c92b-4427-baf9-c251597e1ce2",
   "metadata": {},
   "outputs": [],
   "source": []
  }
 ],
 "metadata": {
  "kernelspec": {
   "display_name": "Python 3 (ipykernel)",
   "language": "python",
   "name": "python3"
  },
  "language_info": {
   "codemirror_mode": {
    "name": "ipython",
    "version": 3
   },
   "file_extension": ".py",
   "mimetype": "text/x-python",
   "name": "python",
   "nbconvert_exporter": "python",
   "pygments_lexer": "ipython3",
   "version": "3.10.13"
  }
 },
 "nbformat": 4,
 "nbformat_minor": 5
}
