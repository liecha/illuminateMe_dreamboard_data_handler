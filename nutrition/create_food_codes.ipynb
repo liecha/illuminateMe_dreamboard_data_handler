{
 "cells": [
  {
   "cell_type": "code",
   "execution_count": 1,
   "id": "e6aea88a-fb32-4de5-b52f-cdd17c4d0eb3",
   "metadata": {},
   "outputs": [],
   "source": [
    "import pandas as pd"
   ]
  },
  {
   "cell_type": "code",
   "execution_count": 2,
   "id": "16e7091d-1a50-416b-a55a-3fc2715d29b8",
   "metadata": {},
   "outputs": [
    {
     "data": {
      "text/html": [
       "<div>\n",
       "<style scoped>\n",
       "    .dataframe tbody tr th:only-of-type {\n",
       "        vertical-align: middle;\n",
       "    }\n",
       "\n",
       "    .dataframe tbody tr th {\n",
       "        vertical-align: top;\n",
       "    }\n",
       "\n",
       "    .dataframe thead th {\n",
       "        text-align: right;\n",
       "    }\n",
       "</style>\n",
       "<table border=\"1\" class=\"dataframe\">\n",
       "  <thead>\n",
       "    <tr style=\"text-align: right;\">\n",
       "      <th></th>\n",
       "      <th>livsmedel</th>\n",
       "      <th>calorie</th>\n",
       "      <th>protein</th>\n",
       "      <th>carb</th>\n",
       "      <th>fat</th>\n",
       "    </tr>\n",
       "  </thead>\n",
       "  <tbody>\n",
       "    <tr>\n",
       "      <th>2472</th>\n",
       "      <td>Barbell coockies caramel</td>\n",
       "      <td>360</td>\n",
       "      <td>36.0</td>\n",
       "      <td>31.0</td>\n",
       "      <td>15.0</td>\n",
       "    </tr>\n",
       "    <tr>\n",
       "      <th>2473</th>\n",
       "      <td>Barbell choco</td>\n",
       "      <td>370</td>\n",
       "      <td>28.0</td>\n",
       "      <td>31.0</td>\n",
       "      <td>17.0</td>\n",
       "    </tr>\n",
       "    <tr>\n",
       "      <th>2474</th>\n",
       "      <td>Hårdost emmentaler 30</td>\n",
       "      <td>386</td>\n",
       "      <td>29.0</td>\n",
       "      <td>0.0</td>\n",
       "      <td>30.0</td>\n",
       "    </tr>\n",
       "    <tr>\n",
       "      <th>2475</th>\n",
       "      <td>Beanaise garant</td>\n",
       "      <td>600</td>\n",
       "      <td>0.5</td>\n",
       "      <td>0.5</td>\n",
       "      <td>66.0</td>\n",
       "    </tr>\n",
       "    <tr>\n",
       "      <th>2476</th>\n",
       "      <td>Coleslaw eldorado</td>\n",
       "      <td>300</td>\n",
       "      <td>0.7</td>\n",
       "      <td>6.6</td>\n",
       "      <td>30.0</td>\n",
       "    </tr>\n",
       "  </tbody>\n",
       "</table>\n",
       "</div>"
      ],
      "text/plain": [
       "                     livsmedel  calorie  protein  carb   fat\n",
       "2472  Barbell coockies caramel      360     36.0  31.0  15.0\n",
       "2473             Barbell choco      370     28.0  31.0  17.0\n",
       "2474     Hårdost emmentaler 30      386     29.0   0.0  30.0\n",
       "2475           Beanaise garant      600      0.5   0.5  66.0\n",
       "2476         Coleslaw eldorado      300      0.7   6.6  30.0"
      ]
     },
     "execution_count": 2,
     "metadata": {},
     "output_type": "execute_result"
    }
   ],
   "source": [
    "df_db = pd.read_csv('../../illuminateMe_dreamBoard/data/livsmedelsdatabas.csv')\n",
    "df_db.tail()"
   ]
  },
  {
   "cell_type": "code",
   "execution_count": 3,
   "id": "8fe04bd1-aea1-44f4-8540-576a152cc7e6",
   "metadata": {},
   "outputs": [],
   "source": [
    "def locate_eatables(new_meal):\n",
    "    eatables = list(new_meal.keys())\n",
    "    found_eatables = []\n",
    "    for j in range(0, len(eatables)):\n",
    "        df_db = pd.read_csv('../../illuminateMe_dreamBoard/data/livsmedelsdatabas.csv')\n",
    "        this_eatable = eatables[j]\n",
    "        look_for_eatable = df_db.loc[df_db['livsmedel'] == this_eatable]  \n",
    "       \n",
    "        if len(look_for_eatable) == 0:            \n",
    "            # 1 Look if eatable has other names/alternatives in the database\n",
    "            sug_bool = False\n",
    "            contains_eatable = df_db['livsmedel'].str.contains(this_eatable).values\n",
    "            df_db.insert(0, 'contains', contains_eatable)\n",
    "            result_list = df_db.loc[df_db['contains'] == True]\n",
    "            suggestions = result_list['livsmedel'].values\n",
    "            if len(suggestions) != 0:\n",
    "                sug_bool = True\n",
    "                print('Altenativ för ' + this_eatable + ':')\n",
    "                for i in range(0, len(suggestions)):        \n",
    "                    print(suggestions[i])\n",
    "                print('Jag vill pausa loppen för att ge användaren alternativ på livsmedelslista som hittats.')\n",
    "                break   \n",
    "            else:\n",
    "                print(eatables[j] + ' behöver adderas till databasen.')\n",
    "                break\n",
    "        else:\n",
    "            found_eatables.append(look_for_eatable)\n",
    "    if len(found_eatables) != 0:\n",
    "        df_result = pd.concat(found_eatables)\n",
    "        return df_result        "
   ]
  },
  {
   "cell_type": "code",
   "execution_count": 4,
   "id": "e61daae3-2c8f-4819-b7dc-b9990e1b4ce2",
   "metadata": {},
   "outputs": [],
   "source": [
    "def create_code(current_meal, df_test):\n",
    "    key_list = list(current_meal.keys())\n",
    "    values_list = list(current_meal.values())\n",
    "    calories = 0.0\n",
    "    protein = 0.0\n",
    "    carb = 0.0\n",
    "    fat = 0.0\n",
    "    for i in range(0, len(key_list)):\n",
    "        this_eatable = df_test.loc[df_test['livsmedel'] == key_list[i]]  \n",
    "        calories = int(calories + this_eatable['calorie'].iloc[0] * values_list[i])\n",
    "        protein = int(protein +  this_eatable['protein'].iloc[0] * values_list[i])\n",
    "        carb = int(carb +  this_eatable['carb'].iloc[0] * values_list[i])\n",
    "        fat = int(fat +  this_eatable['fat'].iloc[0] * values_list[i])\n",
    "    food_code = 'FOOD/' + str(calories) + '/' + str(protein) + '/' + str(carb) + '/' + str(fat)\n",
    "    return food_code"
   ]
  },
  {
   "cell_type": "code",
   "execution_count": 23,
   "id": "0b9c6b49-0937-49a0-90cf-0fe92d6d7190",
   "metadata": {},
   "outputs": [],
   "source": [
    "content_meal = {\n",
    "    'Dadlar peanut': 0.14,\n",
    "    'Barbell santa': 0.18,\n",
    "    'Barbell choco': 0.07,\n",
    "    'Barbell cashew': 0.09,\n",
    "    'Barbell coockies caramel': 0.09,\n",
    "    'Grönkålsbiff': 0.3,\n",
    "    'Mörk choklad kakao 85%': 0.1,\n",
    "    'Marabou dukat': 0.15,\n",
    "    }\n",
    "'''\n",
    "content_meal = {\n",
    "    'Broccoli': 0.45,\n",
    "    'Vattenmelon': 0.96,\n",
    "    'Kiwi gul': 0.38,\n",
    "    'Veg chorizo': 0.60,\n",
    "    'Ägg stekt eko.': 0.5,\n",
    "    'Grönkålsbiff': 0.3,\n",
    "    'Grillost chili': 0.23,\n",
    "    'Koreansk morotssallad': 0.22,\n",
    "    'Beanaise garant': 0.05\n",
    "    }\n",
    "    '''\n",
    "df_this_meal = locate_eatables(content_meal)"
   ]
  },
  {
   "cell_type": "code",
   "execution_count": 24,
   "id": "ca682f19-2800-4d51-b2e6-4bd6958d1d63",
   "metadata": {},
   "outputs": [
    {
     "data": {
      "text/plain": [
       "'FOOD/414/13/32/19'"
      ]
     },
     "execution_count": 24,
     "metadata": {},
     "output_type": "execute_result"
    }
   ],
   "source": [
    "code_meal = create_code(content_meal, df_this_meal)\n",
    "code_meal"
   ]
  },
  {
   "cell_type": "code",
   "execution_count": null,
   "id": "2242bc86-4e78-40b3-8345-b97931239145",
   "metadata": {},
   "outputs": [],
   "source": []
  }
 ],
 "metadata": {
  "kernelspec": {
   "display_name": "Python 3 (ipykernel)",
   "language": "python",
   "name": "python3"
  },
  "language_info": {
   "codemirror_mode": {
    "name": "ipython",
    "version": 3
   },
   "file_extension": ".py",
   "mimetype": "text/x-python",
   "name": "python",
   "nbconvert_exporter": "python",
   "pygments_lexer": "ipython3",
   "version": "3.10.13"
  }
 },
 "nbformat": 4,
 "nbformat_minor": 5
}
