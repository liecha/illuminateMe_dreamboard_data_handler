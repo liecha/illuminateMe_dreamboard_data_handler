{
 "cells": [
  {
   "cell_type": "code",
   "execution_count": 1,
   "id": "e6aea88a-fb32-4de5-b52f-cdd17c4d0eb3",
   "metadata": {},
   "outputs": [],
   "source": [
    "import pandas as pd"
   ]
  },
  {
   "cell_type": "code",
   "execution_count": 10,
   "id": "df7f0259-2e6e-4ac3-8d63-10fabd211d2f",
   "metadata": {},
   "outputs": [],
   "source": [
    "def list_all_meals():\n",
    "    summary = pd.read_csv('meal_databas.csv').groupby(['name', 'code']).count()\n",
    "    print('Måltider i databasen: ')\n",
    "    for i in range(0, len(summary)):       \n",
    "        print(summary.index[i][0] + ' (' + summary.index[i][1] + ')' )"
   ]
  },
  {
   "cell_type": "code",
   "execution_count": 21,
   "id": "da2f59a9-9b13-4303-b7c2-3f1754137707",
   "metadata": {},
   "outputs": [],
   "source": [
    "def add_meal_db(name_meal, content_meal, code_meal):\n",
    "    meal_for_storage = {\n",
    "        'name': [name_meal] * len(list(content_meal.keys())),\n",
    "        'livsmedel': list(content_meal.keys()),\n",
    "        'amount': list(content_meal.values()),\n",
    "        'code' : [code_meal] * len(list(content_meal.keys()))\n",
    "    }\n",
    "    new_recipie = pd.DataFrame(meal_for_storage)\n",
    "    df_meals = pd.read_csv('meal_databas.csv')\n",
    "    look_for_recipie = df_meals.loc[df_meals['name'] == name_meal]\n",
    "    if len(look_for_recipie) != 0:\n",
    "        print('Detta recept finns redan i databasen:')\n",
    "        print(look_for_recipie)\n",
    "    else:\n",
    "        df_add_meal = pd.concat([df_meals, new_recipie])\n",
    "        df_add_meal.to_csv('meal_databas.csv', index=False)\n",
    "        df_meals = pd.read_csv('meal_databas.csv')\n",
    "        print(df_meals)"
   ]
  },
  {
   "cell_type": "code",
   "execution_count": 23,
   "id": "bd538aa9-cf8f-41ed-b948-612ffb112145",
   "metadata": {},
   "outputs": [
    {
     "name": "stdout",
     "output_type": "stream",
     "text": [
      "Måltider i databasen: \n",
      "Middag (FOOD/351/13/25/16)\n",
      "Porridge (FOOD/570/18/34/32)\n",
      "Yoghurt bowl (FOOD/490/15/38/24)\n"
     ]
    }
   ],
   "source": [
    "list_all_meals()"
   ]
  },
  {
   "cell_type": "code",
   "execution_count": 24,
   "id": "2e059f6b-2fab-4e87-b4af-5f89b5382951",
   "metadata": {},
   "outputs": [],
   "source": [
    "# Lista en måltid och dess innehåll\n",
    "def list_content_meal(meal):\n",
    "    df_meals = pd.read_csv('meal_databas.csv')\n",
    "    look_for_meal = df_meals.loc[df_meals['name'] == meal]\n",
    "    if len(look_for_meal) == 0:\n",
    "        print('Denna måltid finns inte registrerad i databasen.')\n",
    "    else:\n",
    "        df_content = look_for_meal[['livsmedel', 'amount']]\n",
    "        print('Måltid: ' + look_for_meal['name'].iloc[0])\n",
    "        print('Kod: ' + look_for_meal['code'].iloc[0])\n",
    "        print('Inndehåll:')\n",
    "        print(df_content)"
   ]
  },
  {
   "cell_type": "code",
   "execution_count": 25,
   "id": "d4e2e831-c647-487b-900c-9d8e9e1cfa2a",
   "metadata": {},
   "outputs": [
    {
     "name": "stdout",
     "output_type": "stream",
     "text": [
      "Måltid: Porridge\n",
      "Kod: FOOD/570/18/34/32\n",
      "Inndehåll:\n",
      "                     livsmedel  amount\n",
      "7           Havregryn fullkorn     0.4\n",
      "8   Jordnötter rostade saltade     0.1\n",
      "9                      Chiafrö     0.1\n",
      "10                    Pumpafrö     0.1\n",
      "11                    Hampafrö     0.1\n",
      "12                Jordnötssmör     0.1\n",
      "13             Estrella nötmix     0.1\n",
      "14                  Protinella     0.1\n",
      "15                   Sojamjölk     1.0\n"
     ]
    }
   ],
   "source": [
    "list_content_meal('Porridge')"
   ]
  },
  {
   "cell_type": "code",
   "execution_count": 17,
   "id": "9d4e3e19-6850-4ec0-a9ab-1861475bc010",
   "metadata": {},
   "outputs": [],
   "source": [
    "name_meal = 'Middag'\n",
    "content_meal = {\n",
    "    'Bröd fullkorn korn fibrer 3%': 0.06,\n",
    "    'Barbell cookies caramel': 0.15,\n",
    "    'Barbell choco': 0.11,\n",
    "    'Barbell cashew': 0.09,\n",
    "    'Dadlar peanut': 0.1,\n",
    "    'Mörk choklad kakao 85%': 0.1,\n",
    "    'Marabou dukat': 0.17\n",
    "    }"
   ]
  },
  {
   "cell_type": "code",
   "execution_count": 22,
   "id": "27cfcf94-c2a4-4319-bcaf-42cb0276ad72",
   "metadata": {},
   "outputs": [
    {
     "name": "stdout",
     "output_type": "stream",
     "text": [
      "Detta recept finns redan i databasen:\n",
      "      name                livsmedel  amount               code\n",
      "16  Middag            Barbell santa    0.06  FOOD/351/13/25/16\n",
      "17  Middag  Barbell cookies caramel    0.15  FOOD/351/13/25/16\n",
      "18  Middag            Barbell choco    0.11  FOOD/351/13/25/16\n",
      "19  Middag           Barbell cashew    0.09  FOOD/351/13/25/16\n",
      "20  Middag            Dadlar peanut    0.10  FOOD/351/13/25/16\n",
      "21  Middag   Mörk choklad kakao 85%    0.10  FOOD/351/13/25/16\n",
      "22  Middag            Marabou dukat    0.17  FOOD/351/13/25/16\n"
     ]
    }
   ],
   "source": [
    "add_meal_db(name_meal, content_meal, 'FOOD/0/0/0/0')"
   ]
  },
  {
   "cell_type": "code",
   "execution_count": null,
   "id": "2328eab3-8c22-4ea2-8193-aa6bcd1c6f04",
   "metadata": {},
   "outputs": [],
   "source": []
  }
 ],
 "metadata": {
  "kernelspec": {
   "display_name": "Python 3 (ipykernel)",
   "language": "python",
   "name": "python3"
  },
  "language_info": {
   "codemirror_mode": {
    "name": "ipython",
    "version": 3
   },
   "file_extension": ".py",
   "mimetype": "text/x-python",
   "name": "python",
   "nbconvert_exporter": "python",
   "pygments_lexer": "ipython3",
   "version": "3.10.13"
  }
 },
 "nbformat": 4,
 "nbformat_minor": 5
}
