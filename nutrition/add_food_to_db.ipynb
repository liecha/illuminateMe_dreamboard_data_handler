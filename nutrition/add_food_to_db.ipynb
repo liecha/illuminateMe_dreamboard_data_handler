{
 "cells": [
  {
   "cell_type": "code",
   "execution_count": 1,
   "id": "dd8f8fba-6436-4559-933f-b9a67dc7c9c4",
   "metadata": {},
   "outputs": [],
   "source": [
    "import pandas as pd\n",
    "def add_eatables(new_input):\n",
    "    df_current_db = pd.read_csv('../../illuminateMe_dreamBoard/data/livsmedelsdatabas.csv')\n",
    "    look_for_eatable = df_current_db.loc[df_current_db['livsmedel'] == new_input['livsmedel']]    \n",
    "    if len(look_for_eatable) == 0:\n",
    "        df_temp = pd.DataFrame([new_input])\n",
    "        pd_db_livsmedel = pd.concat([df_current_db, df_temp], ignore_index = True)\n",
    "        pd_db_livsmedel.to_csv('../../illuminateMe_dreamBoard/data/livsmedelsdatabas.csv', index=False)\n",
    "        print(df_temp['livsmedel'] + ' är tillagt i databasen.')\n",
    "    else:\n",
    "        print('Detta livsmedel finns redan registrerat i databasen.')"
   ]
  },
  {
   "cell_type": "code",
   "execution_count": 2,
   "id": "d77171d0-71c4-4d5d-90c3-dfed5155ded5",
   "metadata": {},
   "outputs": [
    {
     "name": "stdout",
     "output_type": "stream",
     "text": [
      "0    Dadlar peanur är tillagt i databasen.\n",
      "Name: livsmedel, dtype: object\n"
     ]
    }
   ],
   "source": [
    "new_eatable = {\n",
    "    'livsmedel':'Dadlar peanur',\n",
    "    'calorie': 389,\n",
    "    'protein': 6.6,\n",
    "    'carb': 59.7,\n",
    "    'fat': 12.3,\n",
    "    }\n",
    "add_eatables(new_eatable)"
   ]
  },
  {
   "cell_type": "code",
   "execution_count": 6,
   "id": "7b9a9394-8f6f-4a1d-8280-4dbedd4febe6",
   "metadata": {},
   "outputs": [
    {
     "data": {
      "text/html": [
       "<div>\n",
       "<style scoped>\n",
       "    .dataframe tbody tr th:only-of-type {\n",
       "        vertical-align: middle;\n",
       "    }\n",
       "\n",
       "    .dataframe tbody tr th {\n",
       "        vertical-align: top;\n",
       "    }\n",
       "\n",
       "    .dataframe thead th {\n",
       "        text-align: right;\n",
       "    }\n",
       "</style>\n",
       "<table border=\"1\" class=\"dataframe\">\n",
       "  <thead>\n",
       "    <tr style=\"text-align: right;\">\n",
       "      <th></th>\n",
       "      <th>livsmedel</th>\n",
       "      <th>calorie</th>\n",
       "      <th>protein</th>\n",
       "      <th>carb</th>\n",
       "      <th>fat</th>\n",
       "    </tr>\n",
       "  </thead>\n",
       "  <tbody>\n",
       "    <tr>\n",
       "      <th>2465</th>\n",
       "      <td>Sojayoghurt</td>\n",
       "      <td>60</td>\n",
       "      <td>4.5</td>\n",
       "      <td>4.3</td>\n",
       "      <td>2.2</td>\n",
       "    </tr>\n",
       "    <tr>\n",
       "      <th>2466</th>\n",
       "      <td>Sojamjölk</td>\n",
       "      <td>36</td>\n",
       "      <td>3.5</td>\n",
       "      <td>0.8</td>\n",
       "      <td>2.0</td>\n",
       "    </tr>\n",
       "    <tr>\n",
       "      <th>2467</th>\n",
       "      <td>Ica ljust frö</td>\n",
       "      <td>255</td>\n",
       "      <td>5.4</td>\n",
       "      <td>39.0</td>\n",
       "      <td>7.1</td>\n",
       "    </tr>\n",
       "    <tr>\n",
       "      <th>2468</th>\n",
       "      <td>Bregott</td>\n",
       "      <td>633</td>\n",
       "      <td>0.3</td>\n",
       "      <td>8.7</td>\n",
       "      <td>70.0</td>\n",
       "    </tr>\n",
       "    <tr>\n",
       "      <th>2469</th>\n",
       "      <td>Marabou dukat</td>\n",
       "      <td>634</td>\n",
       "      <td>3.5</td>\n",
       "      <td>44.0</td>\n",
       "      <td>49.0</td>\n",
       "    </tr>\n",
       "  </tbody>\n",
       "</table>\n",
       "</div>"
      ],
      "text/plain": [
       "          livsmedel  calorie  protein  carb   fat\n",
       "2465    Sojayoghurt       60      4.5   4.3   2.2\n",
       "2466      Sojamjölk       36      3.5   0.8   2.0\n",
       "2467  Ica ljust frö      255      5.4  39.0   7.1\n",
       "2468        Bregott      633      0.3   8.7  70.0\n",
       "2469  Marabou dukat      634      3.5  44.0  49.0"
      ]
     },
     "execution_count": 6,
     "metadata": {},
     "output_type": "execute_result"
    }
   ],
   "source": [
    "# Look that the new procuct is listed in the end of the table\n",
    "df_db = pd.read_csv('../../illuminateMe_dreamBoard/data/livsmedelsdatabas.csv')\n",
    "df_db.tail()"
   ]
  },
  {
   "cell_type": "code",
   "execution_count": 9,
   "id": "0db1c03e-5338-4c31-a6b4-a0ff507570a5",
   "metadata": {},
   "outputs": [],
   "source": [
    "# History of addition of eatable:\n",
    "\n",
    "# Estrella nötmix\t530,0\t14,6\t43,0\t32,0\n",
    "# Protinella 495,0\t15,4\t41,2\t35,1\n",
    "# Sojayoghurt 60,0\t4,5\t4,3\t2,2\n",
    "# Sojamjölk 36,0\t3,5\t0,8\t2,0\n",
    "# Ica ljust frö 255,00\t5,40\t39,00\t7,10\n",
    "# Bregott 633,00\t0,30\t8,70\t70,00\n",
    "# Hårdost 30% Emmentaler\n",
    "# Grönkålsbiff\t182,00\t6,30\t15,00\t9,60\n",
    "# gul kiwi\n",
    "# Coleslaw garant\n",
    "# Beanaise garant\n",
    "# Grillost chili\n",
    "# Barbell santa\n",
    "# Barbell cookies caramel"
   ]
  },
  {
   "cell_type": "code",
   "execution_count": null,
   "id": "bf2dc276-782d-4380-a6e8-c3a03f5da6a8",
   "metadata": {},
   "outputs": [],
   "source": []
  }
 ],
 "metadata": {
  "kernelspec": {
   "display_name": "Python 3 (ipykernel)",
   "language": "python",
   "name": "python3"
  },
  "language_info": {
   "codemirror_mode": {
    "name": "ipython",
    "version": 3
   },
   "file_extension": ".py",
   "mimetype": "text/x-python",
   "name": "python",
   "nbconvert_exporter": "python",
   "pygments_lexer": "ipython3",
   "version": "3.10.13"
  }
 },
 "nbformat": 4,
 "nbformat_minor": 5
}
