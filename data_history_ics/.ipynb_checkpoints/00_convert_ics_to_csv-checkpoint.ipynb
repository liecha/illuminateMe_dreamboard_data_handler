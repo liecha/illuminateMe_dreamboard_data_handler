{
 "cells": [
  {
   "cell_type": "code",
   "execution_count": 6,
   "id": "537c8150-f3b6-4bcd-b3fe-4588ec365cae",
   "metadata": {},
   "outputs": [],
   "source": [
    "from csv_ical import Convert\n",
    "import pandas as pd"
   ]
  },
  {
   "cell_type": "code",
   "execution_count": 7,
   "id": "ab2f1e28-f39c-438b-8d42-447dd31fdfe3",
   "metadata": {},
   "outputs": [],
   "source": [
    "file_path_in = '../'\n",
    "ics_files = [\n",
    "    'walk.ics',\n",
    "    'TRAINING_2e7bb5ea43738363ea033e8081f6c250499d1b16604d331bf5033b8f6f56413d@group.calendar.google.com.ics',\n",
    "    'SLEEP_f6uded4cdll2bup829m4r8geds@group.calendar.google.com.ics',\n",
    "    'Remember_415t3mq2llnqge71ihc5hoi04s@group.calendar.google.com.ics',\n",
    "    'NOTES_3cd89bbc1ca89eb97cff187bf2cd1b8d385c5d444b3053691cd0485a679d7bfe@group.calendar.google.com.ics',\n",
    "    'Food_emelie.chandni.jutvik@gmail.com.ics',\n",
    "    'Decerno_c531f128b589a0d09a23eabadef6b92e783db8fb438e03ea39e4848c44775aae@group.calendar.google.com.ics',\n",
    "    'Lovali_0pi3g7qlflmlkjg728g4r6bu2k@group.calendar.google.com.ics'\n",
    "]"
   ]
  },
  {
   "cell_type": "code",
   "execution_count": 8,
   "id": "80cde53d-ce3d-421e-b73f-681c0075207c",
   "metadata": {},
   "outputs": [],
   "source": [
    "csv_files = [\n",
    "    'walk.csv',\n",
    "    'training.csv',\n",
    "    'sleep.csv',\n",
    "    'remember.csv',\n",
    "    'notes.csv',\n",
    "    'food.csv',\n",
    "    'decerno.csv',\n",
    "    'lovali.csv' \n",
    "]"
   ]
  },
  {
   "cell_type": "code",
   "execution_count": 9,
   "id": "f1e86e7e-3d00-4e61-a4d8-73419fefd3fa",
   "metadata": {},
   "outputs": [],
   "source": [
    "convert = Convert()"
   ]
  },
  {
   "cell_type": "code",
   "execution_count": 13,
   "id": "bb8b8e88-ffe4-421b-9af7-95510fce83c9",
   "metadata": {},
   "outputs": [
    {
     "ename": "FileNotFoundError",
     "evalue": "[Errno 2] No such file or directory: 'training.csv'",
     "output_type": "error",
     "traceback": [
      "\u001b[0;31m---------------------------------------------------------------------------\u001b[0m",
      "\u001b[0;31mFileNotFoundError\u001b[0m                         Traceback (most recent call last)",
      "Cell \u001b[0;32mIn[13], line 3\u001b[0m\n\u001b[1;32m      1\u001b[0m convert\u001b[38;5;241m.\u001b[39mCSV_FILE_LOCATION \u001b[38;5;241m=\u001b[39m \u001b[38;5;124m'\u001b[39m\u001b[38;5;124mTRAINING_2e7bb5ea43738363ea033e8081f6c250499d1b16604d331bf5033b8f6f56413d@group.calendar.google.com.ics\u001b[39m\u001b[38;5;124m'\u001b[39m,\n\u001b[1;32m      2\u001b[0m convert\u001b[38;5;241m.\u001b[39mSAVE_LOCATION \u001b[38;5;241m=\u001b[39m \u001b[38;5;124m'\u001b[39m\u001b[38;5;124mtraining.csv\u001b[39m\u001b[38;5;124m'\u001b[39m\n\u001b[0;32m----> 3\u001b[0m \u001b[43mconvert\u001b[49m\u001b[38;5;241;43m.\u001b[39;49m\u001b[43mread_ical\u001b[49m\u001b[43m(\u001b[49m\u001b[43mconvert\u001b[49m\u001b[38;5;241;43m.\u001b[39;49m\u001b[43mSAVE_LOCATION\u001b[49m\u001b[43m)\u001b[49m\n\u001b[1;32m      4\u001b[0m convert\u001b[38;5;241m.\u001b[39mmake_csv()\n\u001b[1;32m      5\u001b[0m convert\u001b[38;5;241m.\u001b[39msave_csv(convert\u001b[38;5;241m.\u001b[39mCSV_FILE_LOCATION)\n",
      "File \u001b[0;32m~/anaconda3/envs/fb_env/lib/python3.10/site-packages/csv_ical/convert.py:62\u001b[0m, in \u001b[0;36mConvert.read_ical\u001b[0;34m(self, ical_file_location)\u001b[0m\n\u001b[1;32m     60\u001b[0m \u001b[38;5;28;01mdef\u001b[39;00m \u001b[38;5;21mread_ical\u001b[39m(\u001b[38;5;28mself\u001b[39m, ical_file_location: Union[\u001b[38;5;28mstr\u001b[39m, Path]) \u001b[38;5;241m-\u001b[39m\u001b[38;5;241m>\u001b[39m Calendar:\n\u001b[1;32m     61\u001b[0m \u001b[38;5;250m    \u001b[39m\u001b[38;5;124;03m\"\"\" Read the ical file \"\"\"\u001b[39;00m\n\u001b[0;32m---> 62\u001b[0m     \u001b[38;5;28;01mwith\u001b[39;00m \u001b[38;5;28;43mopen\u001b[39;49m\u001b[43m(\u001b[49m\u001b[43mical_file_location\u001b[49m\u001b[43m,\u001b[49m\u001b[43m \u001b[49m\u001b[38;5;124;43m'\u001b[39;49m\u001b[38;5;124;43mr\u001b[39;49m\u001b[38;5;124;43m'\u001b[39;49m\u001b[43m,\u001b[49m\u001b[43m \u001b[49m\u001b[43mencoding\u001b[49m\u001b[38;5;241;43m=\u001b[39;49m\u001b[38;5;124;43m'\u001b[39;49m\u001b[38;5;124;43mutf-8\u001b[39;49m\u001b[38;5;124;43m'\u001b[39;49m\u001b[43m)\u001b[49m \u001b[38;5;28;01mas\u001b[39;00m ical_file:\n\u001b[1;32m     63\u001b[0m         data \u001b[38;5;241m=\u001b[39m ical_file\u001b[38;5;241m.\u001b[39mread()\n\u001b[1;32m     64\u001b[0m     \u001b[38;5;28mself\u001b[39m\u001b[38;5;241m.\u001b[39mcal \u001b[38;5;241m=\u001b[39m Calendar\u001b[38;5;241m.\u001b[39mfrom_ical(data)\n",
      "\u001b[0;31mFileNotFoundError\u001b[0m: [Errno 2] No such file or directory: 'training.csv'"
     ]
    }
   ],
   "source": [
    "convert.CSV_FILE_LOCATION = 'TRAINING_2e7bb5ea43738363ea033e8081f6c250499d1b16604d331bf5033b8f6f56413d@group.calendar.google.com.ics',\n",
    "convert.SAVE_LOCATION = 'training.csv'\n",
    "convert.read_ical(convert.SAVE_LOCATION)\n",
    "convert.make_csv()\n",
    "convert.save_csv(convert.CSV_FILE_LOCATION)"
   ]
  },
  {
   "cell_type": "code",
   "execution_count": 11,
   "id": "200eee0d-da05-44e2-984c-157288aad95b",
   "metadata": {},
   "outputs": [
    {
     "ename": "ValueError",
     "evalue": "Found no components where exactly one is required: ''",
     "output_type": "error",
     "traceback": [
      "\u001b[0;31m---------------------------------------------------------------------------\u001b[0m",
      "\u001b[0;31mValueError\u001b[0m                                Traceback (most recent call last)",
      "Cell \u001b[0;32mIn[11], line 4\u001b[0m\n\u001b[1;32m      2\u001b[0m convert\u001b[38;5;241m.\u001b[39mCSV_FILE_LOCATION \u001b[38;5;241m=\u001b[39m ics_files[i]\n\u001b[1;32m      3\u001b[0m convert\u001b[38;5;241m.\u001b[39mSAVE_LOCATION \u001b[38;5;241m=\u001b[39m csv_files[i]\n\u001b[0;32m----> 4\u001b[0m \u001b[43mconvert\u001b[49m\u001b[38;5;241;43m.\u001b[39;49m\u001b[43mread_ical\u001b[49m\u001b[43m(\u001b[49m\u001b[43mconvert\u001b[49m\u001b[38;5;241;43m.\u001b[39;49m\u001b[43mSAVE_LOCATION\u001b[49m\u001b[43m)\u001b[49m\n\u001b[1;32m      5\u001b[0m convert\u001b[38;5;241m.\u001b[39mmake_csv()\n\u001b[1;32m      6\u001b[0m convert\u001b[38;5;241m.\u001b[39msave_csv(convert\u001b[38;5;241m.\u001b[39mCSV_FILE_LOCATION)\n",
      "File \u001b[0;32m~/anaconda3/envs/fb_env/lib/python3.10/site-packages/csv_ical/convert.py:64\u001b[0m, in \u001b[0;36mConvert.read_ical\u001b[0;34m(self, ical_file_location)\u001b[0m\n\u001b[1;32m     62\u001b[0m \u001b[38;5;28;01mwith\u001b[39;00m \u001b[38;5;28mopen\u001b[39m(ical_file_location, \u001b[38;5;124m'\u001b[39m\u001b[38;5;124mr\u001b[39m\u001b[38;5;124m'\u001b[39m, encoding\u001b[38;5;241m=\u001b[39m\u001b[38;5;124m'\u001b[39m\u001b[38;5;124mutf-8\u001b[39m\u001b[38;5;124m'\u001b[39m) \u001b[38;5;28;01mas\u001b[39;00m ical_file:\n\u001b[1;32m     63\u001b[0m     data \u001b[38;5;241m=\u001b[39m ical_file\u001b[38;5;241m.\u001b[39mread()\n\u001b[0;32m---> 64\u001b[0m \u001b[38;5;28mself\u001b[39m\u001b[38;5;241m.\u001b[39mcal \u001b[38;5;241m=\u001b[39m \u001b[43mCalendar\u001b[49m\u001b[38;5;241;43m.\u001b[39;49m\u001b[43mfrom_ical\u001b[49m\u001b[43m(\u001b[49m\u001b[43mdata\u001b[49m\u001b[43m)\u001b[49m\n\u001b[1;32m     65\u001b[0m \u001b[38;5;28;01mreturn\u001b[39;00m \u001b[38;5;28mself\u001b[39m\u001b[38;5;241m.\u001b[39mcal\n",
      "File \u001b[0;32m~/anaconda3/envs/fb_env/lib/python3.10/site-packages/icalendar/cal.py:399\u001b[0m, in \u001b[0;36mComponent.from_ical\u001b[0;34m(cls, st, multiple)\u001b[0m\n\u001b[1;32m    396\u001b[0m     \u001b[38;5;28;01mraise\u001b[39;00m \u001b[38;5;167;01mValueError\u001b[39;00m(\u001b[38;5;124m'\u001b[39m\u001b[38;5;124mFound multiple components where \u001b[39m\u001b[38;5;124m'\u001b[39m\n\u001b[1;32m    397\u001b[0m                      \u001b[38;5;124m'\u001b[39m\u001b[38;5;124monly one is allowed: \u001b[39m\u001b[38;5;132;01m{st!r}\u001b[39;00m\u001b[38;5;124m'\u001b[39m\u001b[38;5;241m.\u001b[39mformat(\u001b[38;5;241m*\u001b[39m\u001b[38;5;241m*\u001b[39m\u001b[38;5;28mlocals\u001b[39m()))\n\u001b[1;32m    398\u001b[0m \u001b[38;5;28;01mif\u001b[39;00m \u001b[38;5;28mlen\u001b[39m(comps) \u001b[38;5;241m<\u001b[39m \u001b[38;5;241m1\u001b[39m:\n\u001b[0;32m--> 399\u001b[0m     \u001b[38;5;28;01mraise\u001b[39;00m \u001b[38;5;167;01mValueError\u001b[39;00m(\u001b[38;5;124m'\u001b[39m\u001b[38;5;124mFound no components where \u001b[39m\u001b[38;5;124m'\u001b[39m\n\u001b[1;32m    400\u001b[0m                      \u001b[38;5;124m'\u001b[39m\u001b[38;5;124mexactly one is required: \u001b[39m\u001b[38;5;124m'\u001b[39m\n\u001b[1;32m    401\u001b[0m                      \u001b[38;5;124m'\u001b[39m\u001b[38;5;132;01m{st!r}\u001b[39;00m\u001b[38;5;124m'\u001b[39m\u001b[38;5;241m.\u001b[39mformat(\u001b[38;5;241m*\u001b[39m\u001b[38;5;241m*\u001b[39m\u001b[38;5;28mlocals\u001b[39m()))\n\u001b[1;32m    402\u001b[0m \u001b[38;5;28;01mreturn\u001b[39;00m comps[\u001b[38;5;241m0\u001b[39m]\n",
      "\u001b[0;31mValueError\u001b[0m: Found no components where exactly one is required: ''"
     ]
    }
   ],
   "source": [
    "for i in range(0, len(ics_files)):\n",
    "    convert.CSV_FILE_LOCATION = ics_files[i]\n",
    "    convert.SAVE_LOCATION = csv_files[i]\n",
    "    convert.read_ical(convert.SAVE_LOCATION)\n",
    "    convert.make_csv()\n",
    "    convert.save_csv(convert.CSV_FILE_LOCATION)"
   ]
  },
  {
   "cell_type": "code",
   "execution_count": null,
   "id": "6a3081e5-1d25-4dd4-8b0a-5738f678fb10",
   "metadata": {},
   "outputs": [],
   "source": []
  },
  {
   "cell_type": "code",
   "execution_count": null,
   "id": "fbddf97e-23cd-44a8-8c8b-453665d05a6e",
   "metadata": {},
   "outputs": [],
   "source": []
  }
 ],
 "metadata": {
  "kernelspec": {
   "display_name": "Python 3 (ipykernel)",
   "language": "python",
   "name": "python3"
  },
  "language_info": {
   "codemirror_mode": {
    "name": "ipython",
    "version": 3
   },
   "file_extension": ".py",
   "mimetype": "text/x-python",
   "name": "python",
   "nbconvert_exporter": "python",
   "pygments_lexer": "ipython3",
   "version": "3.10.13"
  }
 },
 "nbformat": 4,
 "nbformat_minor": 5
}
